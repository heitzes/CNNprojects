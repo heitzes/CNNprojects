{
 "cells": [
  {
   "cell_type": "code",
   "execution_count": 2,
   "metadata": {
    "colab": {
     "base_uri": "https://localhost:8080/",
     "height": 503
    },
    "colab_type": "code",
    "executionInfo": {
     "elapsed": 6056,
     "status": "ok",
     "timestamp": 1549956463045,
     "user": {
      "displayName": "­이중협(대학원/일반대학원 전기전자공학과)",
      "photoUrl": "",
      "userId": "06027175232332113122"
     },
     "user_tz": -540
    },
    "id": "5rfPXXDMkcpZ",
    "outputId": "59868d8d-d6ec-466a-bcdf-56a7250b2430"
   },
   "outputs": [
    {
     "name": "stdout",
     "output_type": "stream",
     "text": [
      "Python version\n",
      "sys.version_info(major=3, minor=7, micro=4, releaselevel='final', serial=0)\n",
      "\n",
      "OS information\n",
      "Linux-5.4.0-70-generic-x86_64-with-debian-buster-sid\n",
      "\n",
      "Is GPU available?\n",
      "True\n",
      "\n",
      "GPU information\n",
      "Thu Mar 25 20:36:48 2021       \r\n",
      "+-----------------------------------------------------------------------------+\r\n",
      "| NVIDIA-SMI 455.45.01    Driver Version: 455.45.01    CUDA Version: 11.1     |\r\n",
      "|-------------------------------+----------------------+----------------------+\r\n",
      "| GPU  Name        Persistence-M| Bus-Id        Disp.A | Volatile Uncorr. ECC |\r\n",
      "| Fan  Temp  Perf  Pwr:Usage/Cap|         Memory-Usage | GPU-Util  Compute M. |\r\n",
      "|                               |                      |               MIG M. |\r\n",
      "|===============================+======================+======================|\r\n",
      "|   0  GeForce RTX 3090    On   | 00000000:67:00.0 Off |                  N/A |\r\n",
      "| 30%   26C    P8    10W / 350W |      8MiB / 24268MiB |      0%      Default |\r\n",
      "|                               |                      |                  N/A |\r\n",
      "+-------------------------------+----------------------+----------------------+\r\n",
      "|   1  GeForce RTX 3090    On   | 00000000:68:00.0 Off |                  N/A |\r\n",
      "| 72%   69C    P2   338W / 350W |  17185MiB / 24265MiB |    100%      Default |\r\n",
      "|                               |                      |                  N/A |\r\n",
      "+-------------------------------+----------------------+----------------------+\r\n",
      "                                                                               \r\n",
      "+-----------------------------------------------------------------------------+\r\n",
      "| Processes:                                                                  |\r\n",
      "|  GPU   GI   CI        PID   Type   Process name                  GPU Memory |\r\n",
      "|        ID   ID                                                   Usage      |\r\n",
      "|=============================================================================|\r\n",
      "|    0   N/A  N/A      1396      G   /usr/lib/xorg/Xorg                  4MiB |\r\n",
      "|    0   N/A  N/A      1555      G   /usr/bin/gnome-shell                0MiB |\r\n",
      "|    0   N/A  N/A      2970      C   python                              0MiB |\r\n",
      "|    1   N/A  N/A      1396      G   /usr/lib/xorg/Xorg                 28MiB |\r\n",
      "|    1   N/A  N/A      1555      G   /usr/bin/gnome-shell               13MiB |\r\n",
      "|    1   N/A  N/A      2970      C   python                          17139MiB |\r\n",
      "+-----------------------------------------------------------------------------+\r\n"
     ]
    }
   ],
   "source": [
    "#####################################################################\n",
    "# In order to use GPU acceleration, you must change runtime type.\n",
    "# See the menu bar above. \n",
    "# \"Runtime\" -> \"Change runtime type\"  -> \"Hardware accelerator\"\n",
    "# Change 'None' to 'GPU', then run the code below.\n",
    "#####################################################################\n",
    "\n",
    "import sys\n",
    "import platform\n",
    "import torch\n",
    "\n",
    "print(\"Python version\")\n",
    "print(sys.version_info)\n",
    "\n",
    "print(\"\\nOS information\")\n",
    "print(platform.platform())\n",
    "\n",
    "print(\"\\nIs GPU available?\")\n",
    "print(torch.cuda.is_available())\n",
    "\n",
    "# print(\"\\nCPU information\")\n",
    "# !cat /proc/cpuinfo\n",
    "\n",
    "# print(\"\\nMemory information\")\n",
    "# !cat /proc/meminfo\n",
    "\n",
    "print(\"\\nGPU information\")\n",
    "!nvidia-smi"
   ]
  },
  {
   "cell_type": "code",
   "execution_count": 3,
   "metadata": {
    "colab": {},
    "colab_type": "code",
    "id": "LGgir5u7j9Zy"
   },
   "outputs": [],
   "source": [
    "import torch\n",
    "import torch.nn as nn\n",
    "import torch.optim as optim\n",
    "import torch.nn.functional as F\n",
    "import torchvision.transforms as transforms\n",
    "import torchvision.datasets as dsets \n",
    "import torchvision\n",
    "import time\n",
    "import os\n",
    "\n",
    "# os.environ[\"CUDA_VISIBLE_DEVICES\"]=\"0\""
   ]
  },
  {
   "cell_type": "code",
   "execution_count": 4,
   "metadata": {
    "colab": {
     "base_uri": "https://localhost:8080/",
     "height": 53
    },
    "colab_type": "code",
    "executionInfo": {
     "elapsed": 46373,
     "status": "ok",
     "timestamp": 1549956503374,
     "user": {
      "displayName": "­이중협(대학원/일반대학원 전기전자공학과)",
      "photoUrl": "",
      "userId": "06027175232332113122"
     },
     "user_tz": -540
    },
    "id": "OwvpXFuaj9Z0",
    "outputId": "0943c291-534d-4930-e426-a650e204cdba"
   },
   "outputs": [
    {
     "name": "stdout",
     "output_type": "stream",
     "text": [
      "STEP 1: LOADING DATASET\n",
      "Downloading https://www.cs.toronto.edu/~kriz/cifar-10-python.tar.gz to ./data/CIFAR10/cifar-10-python.tar.gz\n"
     ]
    },
    {
     "data": {
      "application/vnd.jupyter.widget-view+json": {
       "model_id": "a775b312bd7542a9bb3aa24262859935",
       "version_major": 2,
       "version_minor": 0
      },
      "text/plain": [
       "HBox(children=(IntProgress(value=1, bar_style='info', max=1), HTML(value='')))"
      ]
     },
     "metadata": {},
     "output_type": "display_data"
    },
    {
     "name": "stdout",
     "output_type": "stream",
     "text": [
      "Extracting ./data/CIFAR10/cifar-10-python.tar.gz to ./data/CIFAR10/\n"
     ]
    }
   ],
   "source": [
    "print('STEP 1: LOADING DATASET')\n",
    "\n",
    "transform_train = transforms.Compose([\n",
    "    transforms.RandomCrop(32, padding=4),\n",
    "    transforms.RandomHorizontalFlip(),\n",
    "    transforms.ToTensor(),\n",
    "    transforms.Normalize((0.4914, 0.4822, 0.4465), (0.2023, 0.1994, 0.2010)),\n",
    "])\n",
    "\n",
    "transform_test = transforms.Compose([\n",
    "    transforms.ToTensor(),\n",
    "    transforms.Normalize((0.4914, 0.4822, 0.4465), (0.2023, 0.1994, 0.2010)),\n",
    "])\n",
    "\n",
    "train_dataset = dsets.CIFAR10(root='./data/CIFAR10/', \n",
    "                            train=True, \n",
    "                            transform=transform_train,\n",
    "                            download=True)\n",
    "\n",
    "test_dataset = dsets.CIFAR10(root='./data/CIFAR10/', \n",
    "                           train=False, \n",
    "                           transform=transform_test)"
   ]
  },
  {
   "cell_type": "code",
   "execution_count": 6,
   "metadata": {
    "colab": {},
    "colab_type": "code",
    "id": "DrK0ZHmLj9Z4"
   },
   "outputs": [],
   "source": [
    "# reducing the dataset\n",
    "reduced_train_dataset = []\n",
    "for images, labels in train_dataset:\n",
    "    if labels < 3:\n",
    "        reduced_train_dataset.append((images, labels))\n",
    "        \n",
    "reduced_test_dataset = []\n",
    "for images, labels in test_dataset:\n",
    "    if labels < 3:\n",
    "        reduced_test_dataset.append((images, labels))"
   ]
  },
  {
   "cell_type": "code",
   "execution_count": 7,
   "metadata": {
    "colab": {
     "base_uri": "https://localhost:8080/",
     "height": 53
    },
    "colab_type": "code",
    "executionInfo": {
     "elapsed": 63102,
     "status": "ok",
     "timestamp": 1549956520111,
     "user": {
      "displayName": "­이중협(대학원/일반대학원 전기전자공학과)",
      "photoUrl": "",
      "userId": "06027175232332113122"
     },
     "user_tz": -540
    },
    "id": "LWnYJ2cwj9Z6",
    "outputId": "eadaf55c-432b-4956-d36e-2e1064f10a62"
   },
   "outputs": [
    {
     "name": "stdout",
     "output_type": "stream",
     "text": [
      "The number of training images :  15000\n",
      "The number of test images :  3000\n"
     ]
    }
   ],
   "source": [
    "print(\"The number of training images : \", len(reduced_train_dataset))\n",
    "print(\"The number of test images : \", len(reduced_test_dataset))"
   ]
  },
  {
   "cell_type": "code",
   "execution_count": 8,
   "metadata": {
    "colab": {
     "base_uri": "https://localhost:8080/",
     "height": 35
    },
    "colab_type": "code",
    "executionInfo": {
     "elapsed": 63097,
     "status": "ok",
     "timestamp": 1549956520112,
     "user": {
      "displayName": "­이중협(대학원/일반대학원 전기전자공학과)",
      "photoUrl": "",
      "userId": "06027175232332113122"
     },
     "user_tz": -540
    },
    "id": "WFq0isyCj9Z-",
    "outputId": "0a486f6b-d1b2-4475-c20b-83fe0ac90fa0"
   },
   "outputs": [
    {
     "name": "stdout",
     "output_type": "stream",
     "text": [
      "STEP 2: MAKING DATASET ITERABLE\n"
     ]
    }
   ],
   "source": [
    "print('STEP 2: MAKING DATASET ITERABLE')\n",
    "\n",
    "train_loader = torch.utils.data.DataLoader(dataset=reduced_train_dataset, \n",
    "                                           batch_size=128, \n",
    "                                           shuffle=True)\n",
    "\n",
    "test_loader = torch.utils.data.DataLoader(dataset=reduced_test_dataset, \n",
    "                                          batch_size=100, \n",
    "                                          shuffle=False)\n",
    "\n",
    "class_names = ('plane', 'car', 'bird', 'cat', 'deer', 'dog', 'frog', 'horse', 'ship', 'truck')"
   ]
  },
  {
   "cell_type": "markdown",
   "metadata": {
    "colab_type": "text",
    "id": "Wy7GW1lkj9aB"
   },
   "source": [
    "### Visualize a few images"
   ]
  },
  {
   "cell_type": "code",
   "execution_count": 9,
   "metadata": {
    "colab": {},
    "colab_type": "code",
    "id": "tJGv35Alj9aC"
   },
   "outputs": [],
   "source": [
    "import matplotlib.pyplot as plt\n",
    "%matplotlib inline  \n",
    "import numpy as np"
   ]
  },
  {
   "cell_type": "code",
   "execution_count": 10,
   "metadata": {
    "colab": {},
    "colab_type": "code",
    "id": "3PYou4Cuj9aE"
   },
   "outputs": [],
   "source": [
    "def imshow(inp, title=None):\n",
    "    \"\"\"Imshow for Tensor.\"\"\"\n",
    "    inp = inp.numpy().transpose((1, 2, 0))\n",
    "    mean = np.array([0.4914, 0.4822, 0.4465])\n",
    "    std = np.array([0.2023, 0.1994, 0.2010])\n",
    "    inp = std * inp + mean\n",
    "    inp = np.clip(inp, 0, 1)\n",
    "    plt.imshow(inp)\n",
    "    if title is not None:\n",
    "        plt.title(title)\n",
    "    plt.pause(0.001)  # pause a bit so that plots are updated"
   ]
  },
  {
   "cell_type": "code",
   "execution_count": 11,
   "metadata": {
    "colab": {
     "base_uri": "https://localhost:8080/",
     "height": 150
    },
    "colab_type": "code",
    "executionInfo": {
     "elapsed": 63086,
     "status": "ok",
     "timestamp": 1549956520118,
     "user": {
      "displayName": "­이중협(대학원/일반대학원 전기전자공학과)",
      "photoUrl": "",
      "userId": "06027175232332113122"
     },
     "user_tz": -540
    },
    "id": "jX59AE2pj9aH",
    "outputId": "795d995f-84c7-4cde-9524-95a3e78ccc6f"
   },
   "outputs": [
    {
     "data": {
      "image/png": "[encoded data removed]",
      "text/plain": [
       "<Figure size 432x288 with 1 Axes>"
      ]
     },
     "metadata": {
      "needs_background": "light"
     },
     "output_type": "display_data"
    }
   ],
   "source": [
    "train_loader_sample = torch.utils.data.DataLoader(dataset=reduced_train_dataset, \n",
    "                                           batch_size=4, \n",
    "                                           shuffle=True)\n",
    "\n",
    "# Get a batch of training data\n",
    "inputs, classes = next(iter(train_loader_sample))\n",
    "\n",
    "# Make a grid from batch\n",
    "out = torchvision.utils.make_grid(inputs)\n",
    "\n",
    "imshow(out, title=[class_names[x] for x in classes])"
   ]
  },
  {
   "cell_type": "markdown",
   "metadata": {
    "colab_type": "text",
    "id": "hzbc_fTrj9aM"
   },
   "source": [
    "### VGG16 Architecture "
   ]
  },
  {
   "cell_type": "code",
   "execution_count": 26,
   "metadata": {
    "colab": {
     "base_uri": "https://localhost:8080/",
     "height": 35
    },
    "colab_type": "code",
    "executionInfo": {
     "elapsed": 63079,
     "status": "ok",
     "timestamp": 1549956520118,
     "user": {
      "displayName": "­이중협(대학원/일반대학원 전기전자공학과)",
      "photoUrl": "",
      "userId": "06027175232332113122"
     },
     "user_tz": -540
    },
    "id": "gjeNHb89j9aN",
    "outputId": "06f21fc1-d7d7-427a-d45d-f3118f915914"
   },
   "outputs": [
    {
     "name": "stdout",
     "output_type": "stream",
     "text": [
      "STEP 3: CREATE MODEL CLASS (VGG16)\n"
     ]
    }
   ],
   "source": [
    "print('STEP 3: CREATE MODEL CLASS (VGG16)')\n",
    "class VGG(nn.Module):\n",
    "    def __init__(self):\n",
    "        super(VGG, self).__init__()\n",
    "    \n",
    "        self.cnn = nn.Sequential(nn.Conv2d(in_channels=3, out_channels=64, kernel_size=(3,3), stride=1, padding=1),\n",
    "                            nn.BatchNorm2d(64), \n",
    "                            nn.ReLU(),\n",
    "                             nn.Conv2d(in_channels=64, out_channels=64, kernel_size=(3,3), stride=1, padding=1),\n",
    "                             nn.BatchNorm2d(64),\n",
    "                             nn.ReLU(),\n",
    "                             nn.MaxPool2d(kernel_size=2),\n",
    "                                 \n",
    "                             nn.Conv2d(in_channels=64, out_channels=128, kernel_size=(3,3), stride=1, padding=1),\n",
    "                             nn.BatchNorm2d(128),\n",
    "                            nn.ReLU(),\n",
    "                             nn.Conv2d(in_channels=128, out_channels=128, kernel_size=(3,3), stride=1, padding=1),\n",
    "                            nn.BatchNorm2d(128),\n",
    "                            nn.ReLU(),\n",
    "                              \n",
    "                             nn.MaxPool2d(kernel_size=2),    \n",
    "                                 \n",
    "                             nn.Conv2d(in_channels=128, out_channels=256, kernel_size=(3,3), stride=1, padding=1),\n",
    "                             nn.BatchNorm2d(256),\n",
    "                            nn.ReLU(),\n",
    "                             nn.Conv2d(in_channels=256, out_channels=256, kernel_size=(3,3), stride=1, padding=1),\n",
    "                             nn.BatchNorm2d(256),\n",
    "                            nn.ReLU(),\n",
    "                             nn.Conv2d(in_channels=256, out_channels=256, kernel_size=(3,3), stride=1, padding=1),\n",
    "                             nn.BatchNorm2d(256),\n",
    "                            nn.ReLU(),\n",
    "\n",
    "                             nn.MaxPool2d(kernel_size=2),    \n",
    "                                 \n",
    "                            nn.Conv2d(in_channels=256, out_channels=512, kernel_size=(3,3), stride=1, padding=1),\n",
    "                            nn.BatchNorm2d(512),\n",
    "                            nn.ReLU(),\n",
    "                            nn.Conv2d(in_channels=512, out_channels=512, kernel_size=(3,3), stride=1, padding=1),\n",
    "                            nn.BatchNorm2d(512),\n",
    "                            nn.ReLU(),\n",
    "                            nn.Conv2d(in_channels=512, out_channels=512, kernel_size=(3,3), stride=1, padding=1),\n",
    "                            nn.BatchNorm2d(512),\n",
    "                            nn.ReLU(),\n",
    "\n",
    "                             nn.MaxPool2d(kernel_size=2),    \n",
    "                                 \n",
    "                             nn.Conv2d(in_channels=512, out_channels=512, kernel_size=(3,3), stride=1, padding=1),\n",
    "                             nn.BatchNorm2d(512),\n",
    "                             nn.ReLU(),\n",
    "                             nn.Conv2d(in_channels=512, out_channels=512, kernel_size=(3,3), stride=1, padding=1),\n",
    "                             nn.BatchNorm2d(512),\n",
    "                            nn.ReLU(),\n",
    "                             nn.Conv2d(in_channels=512, out_channels=512, kernel_size=(3,3), stride=1, padding=1),\n",
    "                             nn.BatchNorm2d(512),\n",
    "                            nn.ReLU(),\n",
    "\n",
    "                             nn.MaxPool2d(kernel_size=2)     \n",
    "                             )\n",
    "        self.fc = nn.Sequential(nn.Linear(512,3))\n",
    "        \n",
    "    def forward(self,x):\n",
    "        out = self.cnn(x)\n",
    "        # New out size: (128, 512*1*1)\n",
    "        out = out.view(out.size(0), -1)\n",
    "        # Linear function (readout)\n",
    "        out = self.fc(out)\n",
    "\n",
    "        return out        "
   ]
  },
  {
   "cell_type": "code",
   "execution_count": 27,
   "metadata": {
    "colab": {
     "base_uri": "https://localhost:8080/",
     "height": 935
    },
    "colab_type": "code",
    "executionInfo": {
     "elapsed": 68844,
     "status": "ok",
     "timestamp": 1549956525890,
     "user": {
      "displayName": "­이중협(대학원/일반대학원 전기전자공학과)",
      "photoUrl": "",
      "userId": "06027175232332113122"
     },
     "user_tz": -540
    },
    "id": "iqoPZuR3j9aQ",
    "outputId": "6ac6e65f-85f6-4dc2-cd48-a4749bfa9810"
   },
   "outputs": [
    {
     "name": "stdout",
     "output_type": "stream",
     "text": [
      "STEP 4: INSTANTIATE MODEL CLASS\n",
      "The number of parameters :  14724675\n"
     ]
    },
    {
     "data": {
      "text/plain": [
       "VGG(\n",
       "  (cnn): Sequential(\n",
       "    (0): Conv2d(3, 64, kernel_size=(3, 3), stride=(1, 1), padding=(1, 1))\n",
       "    (1): BatchNorm2d(64, eps=1e-05, momentum=0.1, affine=True, track_running_stats=True)\n",
       "    (2): ReLU()\n",
       "    (3): Conv2d(64, 64, kernel_size=(3, 3), stride=(1, 1), padding=(1, 1))\n",
       "    (4): BatchNorm2d(64, eps=1e-05, momentum=0.1, affine=True, track_running_stats=True)\n",
       "    (5): ReLU()\n",
       "    (6): MaxPool2d(kernel_size=2, stride=2, padding=0, dilation=1, ceil_mode=False)\n",
       "    (7): Conv2d(64, 128, kernel_size=(3, 3), stride=(1, 1), padding=(1, 1))\n",
       "    (8): BatchNorm2d(128, eps=1e-05, momentum=0.1, affine=True, track_running_stats=True)\n",
       "    (9): ReLU()\n",
       "    (10): Conv2d(128, 128, kernel_size=(3, 3), stride=(1, 1), padding=(1, 1))\n",
       "    (11): BatchNorm2d(128, eps=1e-05, momentum=0.1, affine=True, track_running_stats=True)\n",
       "    (12): ReLU()\n",
       "    (13): MaxPool2d(kernel_size=2, stride=2, padding=0, dilation=1, ceil_mode=False)\n",
       "    (14): Conv2d(128, 256, kernel_size=(3, 3), stride=(1, 1), padding=(1, 1))\n",
       "    (15): BatchNorm2d(256, eps=1e-05, momentum=0.1, affine=True, track_running_stats=True)\n",
       "    (16): ReLU()\n",
       "    (17): Conv2d(256, 256, kernel_size=(3, 3), stride=(1, 1), padding=(1, 1))\n",
       "    (18): BatchNorm2d(256, eps=1e-05, momentum=0.1, affine=True, track_running_stats=True)\n",
       "    (19): ReLU()\n",
       "    (20): Conv2d(256, 256, kernel_size=(3, 3), stride=(1, 1), padding=(1, 1))\n",
       "    (21): BatchNorm2d(256, eps=1e-05, momentum=0.1, affine=True, track_running_stats=True)\n",
       "    (22): ReLU()\n",
       "    (23): MaxPool2d(kernel_size=2, stride=2, padding=0, dilation=1, ceil_mode=False)\n",
       "    (24): Conv2d(256, 512, kernel_size=(3, 3), stride=(1, 1), padding=(1, 1))\n",
       "    (25): BatchNorm2d(512, eps=1e-05, momentum=0.1, affine=True, track_running_stats=True)\n",
       "    (26): ReLU()\n",
       "    (27): Conv2d(512, 512, kernel_size=(3, 3), stride=(1, 1), padding=(1, 1))\n",
       "    (28): BatchNorm2d(512, eps=1e-05, momentum=0.1, affine=True, track_running_stats=True)\n",
       "    (29): ReLU()\n",
       "    (30): Conv2d(512, 512, kernel_size=(3, 3), stride=(1, 1), padding=(1, 1))\n",
       "    (31): BatchNorm2d(512, eps=1e-05, momentum=0.1, affine=True, track_running_stats=True)\n",
       "    (32): ReLU()\n",
       "    (33): MaxPool2d(kernel_size=2, stride=2, padding=0, dilation=1, ceil_mode=False)\n",
       "    (34): Conv2d(512, 512, kernel_size=(3, 3), stride=(1, 1), padding=(1, 1))\n",
       "    (35): BatchNorm2d(512, eps=1e-05, momentum=0.1, affine=True, track_running_stats=True)\n",
       "    (36): ReLU()\n",
       "    (37): Conv2d(512, 512, kernel_size=(3, 3), stride=(1, 1), padding=(1, 1))\n",
       "    (38): BatchNorm2d(512, eps=1e-05, momentum=0.1, affine=True, track_running_stats=True)\n",
       "    (39): ReLU()\n",
       "    (40): Conv2d(512, 512, kernel_size=(3, 3), stride=(1, 1), padding=(1, 1))\n",
       "    (41): BatchNorm2d(512, eps=1e-05, momentum=0.1, affine=True, track_running_stats=True)\n",
       "    (42): ReLU()\n",
       "    (43): MaxPool2d(kernel_size=2, stride=2, padding=0, dilation=1, ceil_mode=False)\n",
       "  )\n",
       "  (fc): Sequential(\n",
       "    (0): Linear(in_features=512, out_features=3, bias=True)\n",
       "  )\n",
       ")"
      ]
     },
     "execution_count": 27,
     "metadata": {},
     "output_type": "execute_result"
    }
   ],
   "source": [
    "print('STEP 4: INSTANTIATE MODEL CLASS')\n",
    "\n",
    "\n",
    "model = VGG()\n",
    "num_total_params = sum(p.numel() for p in model.parameters())\n",
    "print(\"The number of parameters : \", num_total_params)\n",
    "#######################\n",
    "#  USE GPU FOR MODEL  #\n",
    "#######################\n",
    "\n",
    "device = torch.device(\"cuda:0\" if torch.cuda.is_available() else \"cpu\")\n",
    "model.to(device)"
   ]
  },
  {
   "cell_type": "code",
   "execution_count": 61,
   "metadata": {
    "colab": {
     "base_uri": "https://localhost:8080/",
     "height": 53
    },
    "colab_type": "code",
    "executionInfo": {
     "elapsed": 68834,
     "status": "ok",
     "timestamp": 1549956525891,
     "user": {
      "displayName": "­이중협(대학원/일반대학원 전기전자공학과)",
      "photoUrl": "",
      "userId": "06027175232332113122"
     },
     "user_tz": -540
    },
    "id": "mFeamtXXj9aT",
    "outputId": "0cbbaa6a-65ff-4d79-d1e4-2b2580d04039"
   },
   "outputs": [
    {
     "name": "stdout",
     "output_type": "stream",
     "text": [
      "STEP 5: INSTANTIATE LOSS CLASS\n",
      "STEP 6: INSTANTIATE OPTIMIZER CLASS\n"
     ]
    }
   ],
   "source": [
    "print('STEP 5: INSTANTIATE LOSS CLASS')\n",
    "\n",
    "criterion = nn.CrossEntropyLoss()\n",
    "\n",
    "print('STEP 6: INSTANTIATE OPTIMIZER CLASS')\n",
    "\n",
    "learning_rate = 1e-2\n",
    "momentum = 0.9\n",
    "weight_decay = 5e-4\n",
    "\n",
    "optimizer = torch.optim.SGD(model.parameters(), lr=learning_rate, momentum = momentum, weight_decay = weight_decay)"
   ]
  },
  {
   "cell_type": "markdown",
   "metadata": {
    "colab_type": "text",
    "id": "PaWErvoRj9aY"
   },
   "source": [
    "### Train the VGG 16 model and print test accuracy for every epochs"
   ]
  },
  {
   "cell_type": "code",
   "execution_count": 29,
   "metadata": {
    "colab": {
     "base_uri": "https://localhost:8080/",
     "height": 395
    },
    "colab_type": "code",
    "executionInfo": {
     "elapsed": 1260714,
     "status": "ok",
     "timestamp": 1549957717778,
     "user": {
      "displayName": "­이중협(대학원/일반대학원 전기전자공학과)",
      "photoUrl": "",
      "userId": "06027175232332113122"
     },
     "user_tz": -540
    },
    "id": "bbi85f2Pj9aY",
    "outputId": "8483debb-2beb-4674-da28-0833c55d0a32",
    "scrolled": false
   },
   "outputs": [
    {
     "name": "stdout",
     "output_type": "stream",
     "text": [
      "STEP 7: TRAIN THE MODEL\n",
      "Epoch: 0. Iteration: 100. Loss: 0.5647364258766174. Accuracy: 78.6\n",
      "Epoch: 1. Iteration: 200. Loss: 0.5016461610794067. Accuracy: 84.5\n",
      "Epoch: 2. Iteration: 300. Loss: 0.2882249355316162. Accuracy: 86.4\n",
      "Epoch: 3. Iteration: 400. Loss: 0.264885812997818. Accuracy: 86.7\n",
      "Epoch: 4. Iteration: 500. Loss: 0.13692866265773773. Accuracy: 90.43333333333334\n",
      "Epoch: 5. Iteration: 600. Loss: 0.21354438364505768. Accuracy: 89.26666666666667\n",
      "Epoch: 5. Iteration: 700. Loss: 0.1175544261932373. Accuracy: 90.46666666666667\n",
      "Epoch: 6. Iteration: 800. Loss: 0.2249738872051239. Accuracy: 90.0\n",
      "Epoch: 7. Iteration: 900. Loss: 0.08939456939697266. Accuracy: 90.13333333333334\n",
      "Epoch: 8. Iteration: 1000. Loss: 0.12059716135263443. Accuracy: 90.36666666666666\n",
      "Epoch: 9. Iteration: 1100. Loss: 0.1038648933172226. Accuracy: 90.63333333333334\n",
      "Epoch: 10. Iteration: 1200. Loss: 0.03491270914673805. Accuracy: 92.1\n",
      "Epoch: 11. Iteration: 1300. Loss: 0.05879099294543266. Accuracy: 91.43333333333334\n",
      "Epoch: 11. Iteration: 1400. Loss: 0.03390166908502579. Accuracy: 91.96666666666667\n",
      "Epoch: 12. Iteration: 1500. Loss: 0.020834121853113174. Accuracy: 92.63333333333334\n",
      "Epoch: 13. Iteration: 1600. Loss: 0.12167488038539886. Accuracy: 90.93333333333334\n",
      "Epoch: 14. Iteration: 1700. Loss: 0.01755375973880291. Accuracy: 92.03333333333333\n",
      "Epoch: 15. Iteration: 1800. Loss: 0.01322564110159874. Accuracy: 92.33333333333333\n",
      "Epoch: 16. Iteration: 1900. Loss: 0.025172529742121696. Accuracy: 91.8\n",
      "Epoch: 16. Iteration: 2000. Loss: 0.034578364342451096. Accuracy: 92.93333333333334\n",
      "Epoch: 17. Iteration: 2100. Loss: 0.009948626160621643. Accuracy: 92.83333333333333\n",
      "Epoch: 18. Iteration: 2200. Loss: 0.02249530330300331. Accuracy: 92.1\n",
      "Epoch: 19. Iteration: 2300. Loss: 0.002403493970632553. Accuracy: 92.26666666666667\n"
     ]
    }
   ],
   "source": [
    "print('STEP 7: TRAIN THE MODEL')\n",
    "num_epochs = 20\n",
    "\n",
    "iter=0\n",
    "\n",
    "for epoch in range(num_epochs):\n",
    "    for i, (images, labels) in enumerate(train_loader):\n",
    "        images, labels = images.to(device), labels.to(device)\n",
    "        # Clear gradients w.r.t. parameters\n",
    "        optimizer.zero_grad()\n",
    "\n",
    "        # Forward pass to get output/logits\n",
    "        outputs = model(images)\n",
    "\n",
    "        # Calculate Loss: softmax --> cross entropy loss\n",
    "        loss = criterion(outputs, labels)\n",
    "        \n",
    "        # Getting gradients w.r.t. parameters\n",
    "        loss.backward()\n",
    "\n",
    "        # Updating parameters\n",
    "        optimizer.step()\n",
    "\n",
    "        iter += 1\n",
    "\n",
    "        if iter % 100 == 0:\n",
    "            # Calculate Accuracy         \n",
    "            correct = 0\n",
    "            total = 0\n",
    "            # Iterate through test dataset\n",
    "            for images, labels in test_loader:\n",
    "                images, labels = images.to(device), labels.to(device) \n",
    "                # Forward pass only to get logits/output\n",
    "                outputs = model(images)\n",
    "                # Get predictions from the maximum value\n",
    "                _, predicted = torch.max(outputs.data, 1)\n",
    "                # Total number of labels\n",
    "                total += labels.size(0)\n",
    "\n",
    "                # Total correct predictions\n",
    "                correct += (predicted == labels).sum()\n",
    "\n",
    "            accuracy = 100 * correct.item() / total\n",
    "\n",
    "            # Print Loss\n",
    "            print('Epoch: {}. Iteration: {}. Loss: {}. Accuracy: {}'.format(epoch, iter, loss.item(), accuracy))\n",
    "\n"
   ]
  },
  {
   "cell_type": "markdown",
   "metadata": {},
   "source": [
    "## ResNet"
   ]
  },
  {
   "cell_type": "markdown",
   "metadata": {},
   "source": [
    "### Residual block"
   ]
  },
  {
   "cell_type": "code",
   "execution_count": 302,
   "metadata": {},
   "outputs": [],
   "source": [
    "def layer(inp,out,ker,stride=1,pad=1,opt=0):\n",
    "    if opt==1:\n",
    "        layer = nn.Sequential(nn.Conv2d(inp, out, kernel_size=ker, stride=stride, padding=pad),\n",
    "                         nn.BatchNorm2d(out))\n",
    "    else:\n",
    "        layer = nn.Sequential(nn.Conv2d(inp, out, kernel_size=ker, stride=stride, padding=pad),\n",
    "                         nn.BatchNorm2d(out),\n",
    "                         nn.ReLU())\n",
    "    return layer"
   ]
  },
  {
   "cell_type": "code",
   "execution_count": 304,
   "metadata": {},
   "outputs": [],
   "source": [
    "def conv1():\n",
    "    conv1 = nn.Sequential(layer(3,64,3,pad=1))\n",
    "    return conv1   "
   ]
  },
  {
   "cell_type": "code",
   "execution_count": 305,
   "metadata": {},
   "outputs": [],
   "source": [
    "def conv2():\n",
    "    conv2 = nn.Sequential(layer(256,64,1,pad=0),layer(64,64,3),layer(64,256,1,pad=0,opt=1))\n",
    "    return conv2"
   ]
  },
  {
   "cell_type": "code",
   "execution_count": 306,
   "metadata": {},
   "outputs": [],
   "source": [
    "def conv3(stride=1):\n",
    "    conv3 = nn.Sequential(layer(512,128,1,stride=stride,pad=0),layer(128,128,3),layer(128,512,1,pad=0,opt=1))\n",
    "    return conv3"
   ]
  },
  {
   "cell_type": "code",
   "execution_count": 307,
   "metadata": {},
   "outputs": [],
   "source": [
    "def conv4(stride=1):\n",
    "    conv4 = nn.Sequential(layer(1024,256,1,pad=0),layer(256,256,3),layer(256,1024,1,pad=0,opt=1))\n",
    "    return conv4"
   ]
  },
  {
   "cell_type": "code",
   "execution_count": 308,
   "metadata": {},
   "outputs": [],
   "source": [
    "def conv5(stride=1):\n",
    "    conv5 = nn.Sequential(layer(2048,512,1,pad=0),layer(512,512,3),layer(512,2048,1,pad=0,opt=1))\n",
    "    return conv5"
   ]
  },
  {
   "cell_type": "code",
   "execution_count": 309,
   "metadata": {},
   "outputs": [],
   "source": [
    "class Block2(nn.Module):\n",
    "    def __init__(self,case=0):\n",
    "        super(Block2,self).__init__()\n",
    "        self.cnn = conv2()\n",
    "        self.shortcut = nn.Sequential()\n",
    "        if case==1:\n",
    "            self.cnn[0] = layer(64,64,1,pad=0)\n",
    "            self.shortcut = nn.Sequential(\n",
    "            layer(64,256,1,pad=0,opt=1)\n",
    "            )\n",
    "        self.relu = nn.ReLU()\n",
    "        \n",
    "    def forward(self,x):\n",
    "        out = self.cnn(x) + self.shortcut(x)\n",
    "        out = self.relu(out)\n",
    "        return out"
   ]
  },
  {
   "cell_type": "code",
   "execution_count": 310,
   "metadata": {},
   "outputs": [],
   "source": [
    "class Block3(nn.Module):\n",
    "    def __init__(self,case=0):\n",
    "        super(Block3,self).__init__()\n",
    "        self.cnn = conv3()\n",
    "        self.shortcut = nn.Sequential()\n",
    "        if case==1:\n",
    "            self.cnn[0] = layer(256,128,1,pad=0,stride=2)\n",
    "            self.shortcut = nn.Sequential(\n",
    "            layer(256,512,1,pad=0,opt=1,stride=2))\n",
    "        self.relu = nn.ReLU()\n",
    "        \n",
    "    def forward(self,x):\n",
    "        out = self.cnn(x) + self.shortcut(x)\n",
    "        out = self.relu(out)\n",
    "        return out"
   ]
  },
  {
   "cell_type": "code",
   "execution_count": 311,
   "metadata": {},
   "outputs": [],
   "source": [
    "class Block4(nn.Module):\n",
    "    def __init__(self,case=0):\n",
    "        super(Block4,self).__init__()\n",
    "        self.cnn = conv4()\n",
    "        self.shortcut = nn.Sequential()\n",
    "        if case==1:\n",
    "            self.cnn[0] = layer(512,256,1,pad=0,stride=2)\n",
    "            self.shortcut = nn.Sequential(\n",
    "            layer(512,1024,1,opt=1,pad=0,stride=2))\n",
    "        self.relu = nn.ReLU()\n",
    "        \n",
    "    def forward(self,x):\n",
    "        out = self.cnn(x) + self.shortcut(x)\n",
    "        out = self.relu(out)\n",
    "        return out"
   ]
  },
  {
   "cell_type": "code",
   "execution_count": 312,
   "metadata": {},
   "outputs": [],
   "source": [
    "class Block5(nn.Module):\n",
    "    def __init__(self,case=0):\n",
    "        super(Block5,self).__init__()\n",
    "        self.cnn = conv5()\n",
    "        self.shortcut = nn.Sequential()\n",
    "        if case==1:\n",
    "            self.cnn[0] = layer(1024,512,1,pad=0,stride=2)\n",
    "            self.shortcut = nn.Sequential(\n",
    "            layer(1024,2048,1,opt=1,pad=0,stride=2))\n",
    "        self.relu = nn.ReLU()\n",
    "        \n",
    "    def forward(self,x):\n",
    "        out = self.cnn(x) + self.shortcut(x)\n",
    "        out = self.relu(out)\n",
    "        return out"
   ]
  },
  {
   "cell_type": "markdown",
   "metadata": {},
   "source": [
    "### ResNet architecture"
   ]
  },
  {
   "cell_type": "code",
   "execution_count": 313,
   "metadata": {},
   "outputs": [
    {
     "name": "stdout",
     "output_type": "stream",
     "text": [
      "STEP 3: CREATE MODEL CLASS (ResNet-50)\n",
      "STEP 4: INSTANTIATE MODEL CLASS\n",
      "The number of parameters :  23533059\n"
     ]
    },
    {
     "data": {
      "text/plain": [
       "ResNet(\n",
       "  (cnn): Sequential(\n",
       "    (0): Sequential(\n",
       "      (0): Sequential(\n",
       "        (0): Conv2d(3, 64, kernel_size=(3, 3), stride=(1, 1), padding=(1, 1))\n",
       "        (1): BatchNorm2d(64, eps=1e-05, momentum=0.1, affine=True, track_running_stats=True)\n",
       "        (2): ReLU()\n",
       "      )\n",
       "    )\n",
       "    (1): Block2(\n",
       "      (cnn): Sequential(\n",
       "        (0): Sequential(\n",
       "          (0): Conv2d(64, 64, kernel_size=(1, 1), stride=(1, 1))\n",
       "          (1): BatchNorm2d(64, eps=1e-05, momentum=0.1, affine=True, track_running_stats=True)\n",
       "          (2): ReLU()\n",
       "        )\n",
       "        (1): Sequential(\n",
       "          (0): Conv2d(64, 64, kernel_size=(3, 3), stride=(1, 1), padding=(1, 1))\n",
       "          (1): BatchNorm2d(64, eps=1e-05, momentum=0.1, affine=True, track_running_stats=True)\n",
       "          (2): ReLU()\n",
       "        )\n",
       "        (2): Sequential(\n",
       "          (0): Conv2d(64, 256, kernel_size=(1, 1), stride=(1, 1))\n",
       "          (1): BatchNorm2d(256, eps=1e-05, momentum=0.1, affine=True, track_running_stats=True)\n",
       "        )\n",
       "      )\n",
       "      (shortcut): Sequential(\n",
       "        (0): Sequential(\n",
       "          (0): Conv2d(64, 256, kernel_size=(1, 1), stride=(1, 1))\n",
       "          (1): BatchNorm2d(256, eps=1e-05, momentum=0.1, affine=True, track_running_stats=True)\n",
       "        )\n",
       "      )\n",
       "      (relu): ReLU()\n",
       "    )\n",
       "    (2): Block2(\n",
       "      (cnn): Sequential(\n",
       "        (0): Sequential(\n",
       "          (0): Conv2d(256, 64, kernel_size=(1, 1), stride=(1, 1))\n",
       "          (1): BatchNorm2d(64, eps=1e-05, momentum=0.1, affine=True, track_running_stats=True)\n",
       "          (2): ReLU()\n",
       "        )\n",
       "        (1): Sequential(\n",
       "          (0): Conv2d(64, 64, kernel_size=(3, 3), stride=(1, 1), padding=(1, 1))\n",
       "          (1): BatchNorm2d(64, eps=1e-05, momentum=0.1, affine=True, track_running_stats=True)\n",
       "          (2): ReLU()\n",
       "        )\n",
       "        (2): Sequential(\n",
       "          (0): Conv2d(64, 256, kernel_size=(1, 1), stride=(1, 1))\n",
       "          (1): BatchNorm2d(256, eps=1e-05, momentum=0.1, affine=True, track_running_stats=True)\n",
       "        )\n",
       "      )\n",
       "      (shortcut): Sequential()\n",
       "      (relu): ReLU()\n",
       "    )\n",
       "    (3): Block2(\n",
       "      (cnn): Sequential(\n",
       "        (0): Sequential(\n",
       "          (0): Conv2d(256, 64, kernel_size=(1, 1), stride=(1, 1))\n",
       "          (1): BatchNorm2d(64, eps=1e-05, momentum=0.1, affine=True, track_running_stats=True)\n",
       "          (2): ReLU()\n",
       "        )\n",
       "        (1): Sequential(\n",
       "          (0): Conv2d(64, 64, kernel_size=(3, 3), stride=(1, 1), padding=(1, 1))\n",
       "          (1): BatchNorm2d(64, eps=1e-05, momentum=0.1, affine=True, track_running_stats=True)\n",
       "          (2): ReLU()\n",
       "        )\n",
       "        (2): Sequential(\n",
       "          (0): Conv2d(64, 256, kernel_size=(1, 1), stride=(1, 1))\n",
       "          (1): BatchNorm2d(256, eps=1e-05, momentum=0.1, affine=True, track_running_stats=True)\n",
       "        )\n",
       "      )\n",
       "      (shortcut): Sequential()\n",
       "      (relu): ReLU()\n",
       "    )\n",
       "    (4): Block3(\n",
       "      (cnn): Sequential(\n",
       "        (0): Sequential(\n",
       "          (0): Conv2d(256, 128, kernel_size=(1, 1), stride=(2, 2))\n",
       "          (1): BatchNorm2d(128, eps=1e-05, momentum=0.1, affine=True, track_running_stats=True)\n",
       "          (2): ReLU()\n",
       "        )\n",
       "        (1): Sequential(\n",
       "          (0): Conv2d(128, 128, kernel_size=(3, 3), stride=(1, 1), padding=(1, 1))\n",
       "          (1): BatchNorm2d(128, eps=1e-05, momentum=0.1, affine=True, track_running_stats=True)\n",
       "          (2): ReLU()\n",
       "        )\n",
       "        (2): Sequential(\n",
       "          (0): Conv2d(128, 512, kernel_size=(1, 1), stride=(1, 1))\n",
       "          (1): BatchNorm2d(512, eps=1e-05, momentum=0.1, affine=True, track_running_stats=True)\n",
       "        )\n",
       "      )\n",
       "      (shortcut): Sequential(\n",
       "        (0): Sequential(\n",
       "          (0): Conv2d(256, 512, kernel_size=(1, 1), stride=(2, 2))\n",
       "          (1): BatchNorm2d(512, eps=1e-05, momentum=0.1, affine=True, track_running_stats=True)\n",
       "        )\n",
       "      )\n",
       "      (relu): ReLU()\n",
       "    )\n",
       "    (5): Block3(\n",
       "      (cnn): Sequential(\n",
       "        (0): Sequential(\n",
       "          (0): Conv2d(512, 128, kernel_size=(1, 1), stride=(1, 1))\n",
       "          (1): BatchNorm2d(128, eps=1e-05, momentum=0.1, affine=True, track_running_stats=True)\n",
       "          (2): ReLU()\n",
       "        )\n",
       "        (1): Sequential(\n",
       "          (0): Conv2d(128, 128, kernel_size=(3, 3), stride=(1, 1), padding=(1, 1))\n",
       "          (1): BatchNorm2d(128, eps=1e-05, momentum=0.1, affine=True, track_running_stats=True)\n",
       "          (2): ReLU()\n",
       "        )\n",
       "        (2): Sequential(\n",
       "          (0): Conv2d(128, 512, kernel_size=(1, 1), stride=(1, 1))\n",
       "          (1): BatchNorm2d(512, eps=1e-05, momentum=0.1, affine=True, track_running_stats=True)\n",
       "        )\n",
       "      )\n",
       "      (shortcut): Sequential()\n",
       "      (relu): ReLU()\n",
       "    )\n",
       "    (6): Block3(\n",
       "      (cnn): Sequential(\n",
       "        (0): Sequential(\n",
       "          (0): Conv2d(512, 128, kernel_size=(1, 1), stride=(1, 1))\n",
       "          (1): BatchNorm2d(128, eps=1e-05, momentum=0.1, affine=True, track_running_stats=True)\n",
       "          (2): ReLU()\n",
       "        )\n",
       "        (1): Sequential(\n",
       "          (0): Conv2d(128, 128, kernel_size=(3, 3), stride=(1, 1), padding=(1, 1))\n",
       "          (1): BatchNorm2d(128, eps=1e-05, momentum=0.1, affine=True, track_running_stats=True)\n",
       "          (2): ReLU()\n",
       "        )\n",
       "        (2): Sequential(\n",
       "          (0): Conv2d(128, 512, kernel_size=(1, 1), stride=(1, 1))\n",
       "          (1): BatchNorm2d(512, eps=1e-05, momentum=0.1, affine=True, track_running_stats=True)\n",
       "        )\n",
       "      )\n",
       "      (shortcut): Sequential()\n",
       "      (relu): ReLU()\n",
       "    )\n",
       "    (7): Block3(\n",
       "      (cnn): Sequential(\n",
       "        (0): Sequential(\n",
       "          (0): Conv2d(512, 128, kernel_size=(1, 1), stride=(1, 1))\n",
       "          (1): BatchNorm2d(128, eps=1e-05, momentum=0.1, affine=True, track_running_stats=True)\n",
       "          (2): ReLU()\n",
       "        )\n",
       "        (1): Sequential(\n",
       "          (0): Conv2d(128, 128, kernel_size=(3, 3), stride=(1, 1), padding=(1, 1))\n",
       "          (1): BatchNorm2d(128, eps=1e-05, momentum=0.1, affine=True, track_running_stats=True)\n",
       "          (2): ReLU()\n",
       "        )\n",
       "        (2): Sequential(\n",
       "          (0): Conv2d(128, 512, kernel_size=(1, 1), stride=(1, 1))\n",
       "          (1): BatchNorm2d(512, eps=1e-05, momentum=0.1, affine=True, track_running_stats=True)\n",
       "        )\n",
       "      )\n",
       "      (shortcut): Sequential()\n",
       "      (relu): ReLU()\n",
       "    )\n",
       "    (8): Block4(\n",
       "      (cnn): Sequential(\n",
       "        (0): Sequential(\n",
       "          (0): Conv2d(512, 256, kernel_size=(1, 1), stride=(2, 2))\n",
       "          (1): BatchNorm2d(256, eps=1e-05, momentum=0.1, affine=True, track_running_stats=True)\n",
       "          (2): ReLU()\n",
       "        )\n",
       "        (1): Sequential(\n",
       "          (0): Conv2d(256, 256, kernel_size=(3, 3), stride=(1, 1), padding=(1, 1))\n",
       "          (1): BatchNorm2d(256, eps=1e-05, momentum=0.1, affine=True, track_running_stats=True)\n",
       "          (2): ReLU()\n",
       "        )\n",
       "        (2): Sequential(\n",
       "          (0): Conv2d(256, 1024, kernel_size=(1, 1), stride=(1, 1))\n",
       "          (1): BatchNorm2d(1024, eps=1e-05, momentum=0.1, affine=True, track_running_stats=True)\n",
       "        )\n",
       "      )\n",
       "      (shortcut): Sequential(\n",
       "        (0): Sequential(\n",
       "          (0): Conv2d(512, 1024, kernel_size=(1, 1), stride=(2, 2))\n",
       "          (1): BatchNorm2d(1024, eps=1e-05, momentum=0.1, affine=True, track_running_stats=True)\n",
       "        )\n",
       "      )\n",
       "      (relu): ReLU()\n",
       "    )\n",
       "    (9): Block4(\n",
       "      (cnn): Sequential(\n",
       "        (0): Sequential(\n",
       "          (0): Conv2d(1024, 256, kernel_size=(1, 1), stride=(1, 1))\n",
       "          (1): BatchNorm2d(256, eps=1e-05, momentum=0.1, affine=True, track_running_stats=True)\n",
       "          (2): ReLU()\n",
       "        )\n",
       "        (1): Sequential(\n",
       "          (0): Conv2d(256, 256, kernel_size=(3, 3), stride=(1, 1), padding=(1, 1))\n",
       "          (1): BatchNorm2d(256, eps=1e-05, momentum=0.1, affine=True, track_running_stats=True)\n",
       "          (2): ReLU()\n",
       "        )\n",
       "        (2): Sequential(\n",
       "          (0): Conv2d(256, 1024, kernel_size=(1, 1), stride=(1, 1))\n",
       "          (1): BatchNorm2d(1024, eps=1e-05, momentum=0.1, affine=True, track_running_stats=True)\n",
       "        )\n",
       "      )\n",
       "      (shortcut): Sequential()\n",
       "      (relu): ReLU()\n",
       "    )\n",
       "    (10): Block4(\n",
       "      (cnn): Sequential(\n",
       "        (0): Sequential(\n",
       "          (0): Conv2d(1024, 256, kernel_size=(1, 1), stride=(1, 1))\n",
       "          (1): BatchNorm2d(256, eps=1e-05, momentum=0.1, affine=True, track_running_stats=True)\n",
       "          (2): ReLU()\n",
       "        )\n",
       "        (1): Sequential(\n",
       "          (0): Conv2d(256, 256, kernel_size=(3, 3), stride=(1, 1), padding=(1, 1))\n",
       "          (1): BatchNorm2d(256, eps=1e-05, momentum=0.1, affine=True, track_running_stats=True)\n",
       "          (2): ReLU()\n",
       "        )\n",
       "        (2): Sequential(\n",
       "          (0): Conv2d(256, 1024, kernel_size=(1, 1), stride=(1, 1))\n",
       "          (1): BatchNorm2d(1024, eps=1e-05, momentum=0.1, affine=True, track_running_stats=True)\n",
       "        )\n",
       "      )\n",
       "      (shortcut): Sequential()\n",
       "      (relu): ReLU()\n",
       "    )\n",
       "    (11): Block4(\n",
       "      (cnn): Sequential(\n",
       "        (0): Sequential(\n",
       "          (0): Conv2d(1024, 256, kernel_size=(1, 1), stride=(1, 1))\n",
       "          (1): BatchNorm2d(256, eps=1e-05, momentum=0.1, affine=True, track_running_stats=True)\n",
       "          (2): ReLU()\n",
       "        )\n",
       "        (1): Sequential(\n",
       "          (0): Conv2d(256, 256, kernel_size=(3, 3), stride=(1, 1), padding=(1, 1))\n",
       "          (1): BatchNorm2d(256, eps=1e-05, momentum=0.1, affine=True, track_running_stats=True)\n",
       "          (2): ReLU()\n",
       "        )\n",
       "        (2): Sequential(\n",
       "          (0): Conv2d(256, 1024, kernel_size=(1, 1), stride=(1, 1))\n",
       "          (1): BatchNorm2d(1024, eps=1e-05, momentum=0.1, affine=True, track_running_stats=True)\n",
       "        )\n",
       "      )\n",
       "      (shortcut): Sequential()\n",
       "      (relu): ReLU()\n",
       "    )\n",
       "    (12): Block4(\n",
       "      (cnn): Sequential(\n",
       "        (0): Sequential(\n",
       "          (0): Conv2d(1024, 256, kernel_size=(1, 1), stride=(1, 1))\n",
       "          (1): BatchNorm2d(256, eps=1e-05, momentum=0.1, affine=True, track_running_stats=True)\n",
       "          (2): ReLU()\n",
       "        )\n",
       "        (1): Sequential(\n",
       "          (0): Conv2d(256, 256, kernel_size=(3, 3), stride=(1, 1), padding=(1, 1))\n",
       "          (1): BatchNorm2d(256, eps=1e-05, momentum=0.1, affine=True, track_running_stats=True)\n",
       "          (2): ReLU()\n",
       "        )\n",
       "        (2): Sequential(\n",
       "          (0): Conv2d(256, 1024, kernel_size=(1, 1), stride=(1, 1))\n",
       "          (1): BatchNorm2d(1024, eps=1e-05, momentum=0.1, affine=True, track_running_stats=True)\n",
       "        )\n",
       "      )\n",
       "      (shortcut): Sequential()\n",
       "      (relu): ReLU()\n",
       "    )\n",
       "    (13): Block4(\n",
       "      (cnn): Sequential(\n",
       "        (0): Sequential(\n",
       "          (0): Conv2d(1024, 256, kernel_size=(1, 1), stride=(1, 1))\n",
       "          (1): BatchNorm2d(256, eps=1e-05, momentum=0.1, affine=True, track_running_stats=True)\n",
       "          (2): ReLU()\n",
       "        )\n",
       "        (1): Sequential(\n",
       "          (0): Conv2d(256, 256, kernel_size=(3, 3), stride=(1, 1), padding=(1, 1))\n",
       "          (1): BatchNorm2d(256, eps=1e-05, momentum=0.1, affine=True, track_running_stats=True)\n",
       "          (2): ReLU()\n",
       "        )\n",
       "        (2): Sequential(\n",
       "          (0): Conv2d(256, 1024, kernel_size=(1, 1), stride=(1, 1))\n",
       "          (1): BatchNorm2d(1024, eps=1e-05, momentum=0.1, affine=True, track_running_stats=True)\n",
       "        )\n",
       "      )\n",
       "      (shortcut): Sequential()\n",
       "      (relu): ReLU()\n",
       "    )\n",
       "    (14): Block5(\n",
       "      (cnn): Sequential(\n",
       "        (0): Sequential(\n",
       "          (0): Conv2d(1024, 512, kernel_size=(1, 1), stride=(2, 2))\n",
       "          (1): BatchNorm2d(512, eps=1e-05, momentum=0.1, affine=True, track_running_stats=True)\n",
       "          (2): ReLU()\n",
       "        )\n",
       "        (1): Sequential(\n",
       "          (0): Conv2d(512, 512, kernel_size=(3, 3), stride=(1, 1), padding=(1, 1))\n",
       "          (1): BatchNorm2d(512, eps=1e-05, momentum=0.1, affine=True, track_running_stats=True)\n",
       "          (2): ReLU()\n",
       "        )\n",
       "        (2): Sequential(\n",
       "          (0): Conv2d(512, 2048, kernel_size=(1, 1), stride=(1, 1))\n",
       "          (1): BatchNorm2d(2048, eps=1e-05, momentum=0.1, affine=True, track_running_stats=True)\n",
       "        )\n",
       "      )\n",
       "      (shortcut): Sequential(\n",
       "        (0): Sequential(\n",
       "          (0): Conv2d(1024, 2048, kernel_size=(1, 1), stride=(2, 2))\n",
       "          (1): BatchNorm2d(2048, eps=1e-05, momentum=0.1, affine=True, track_running_stats=True)\n",
       "        )\n",
       "      )\n",
       "      (relu): ReLU()\n",
       "    )\n",
       "    (15): Block5(\n",
       "      (cnn): Sequential(\n",
       "        (0): Sequential(\n",
       "          (0): Conv2d(2048, 512, kernel_size=(1, 1), stride=(1, 1))\n",
       "          (1): BatchNorm2d(512, eps=1e-05, momentum=0.1, affine=True, track_running_stats=True)\n",
       "          (2): ReLU()\n",
       "        )\n",
       "        (1): Sequential(\n",
       "          (0): Conv2d(512, 512, kernel_size=(3, 3), stride=(1, 1), padding=(1, 1))\n",
       "          (1): BatchNorm2d(512, eps=1e-05, momentum=0.1, affine=True, track_running_stats=True)\n",
       "          (2): ReLU()\n",
       "        )\n",
       "        (2): Sequential(\n",
       "          (0): Conv2d(512, 2048, kernel_size=(1, 1), stride=(1, 1))\n",
       "          (1): BatchNorm2d(2048, eps=1e-05, momentum=0.1, affine=True, track_running_stats=True)\n",
       "        )\n",
       "      )\n",
       "      (shortcut): Sequential()\n",
       "      (relu): ReLU()\n",
       "    )\n",
       "    (16): Block5(\n",
       "      (cnn): Sequential(\n",
       "        (0): Sequential(\n",
       "          (0): Conv2d(2048, 512, kernel_size=(1, 1), stride=(1, 1))\n",
       "          (1): BatchNorm2d(512, eps=1e-05, momentum=0.1, affine=True, track_running_stats=True)\n",
       "          (2): ReLU()\n",
       "        )\n",
       "        (1): Sequential(\n",
       "          (0): Conv2d(512, 512, kernel_size=(3, 3), stride=(1, 1), padding=(1, 1))\n",
       "          (1): BatchNorm2d(512, eps=1e-05, momentum=0.1, affine=True, track_running_stats=True)\n",
       "          (2): ReLU()\n",
       "        )\n",
       "        (2): Sequential(\n",
       "          (0): Conv2d(512, 2048, kernel_size=(1, 1), stride=(1, 1))\n",
       "          (1): BatchNorm2d(2048, eps=1e-05, momentum=0.1, affine=True, track_running_stats=True)\n",
       "        )\n",
       "      )\n",
       "      (shortcut): Sequential()\n",
       "      (relu): ReLU()\n",
       "    )\n",
       "    (17): AvgPool2d(kernel_size=4, stride=4, padding=0)\n",
       "  )\n",
       "  (fc): Sequential(\n",
       "    (0): Linear(in_features=2048, out_features=3, bias=True)\n",
       "  )\n",
       ")"
      ]
     },
     "execution_count": 313,
     "metadata": {},
     "output_type": "execute_result"
    }
   ],
   "source": [
    "print('STEP 3: CREATE MODEL CLASS (ResNet-50)')\n",
    "class ResNet(nn.Module):\n",
    "    def __init__(self):\n",
    "        super(ResNet,self).__init__()\n",
    "        self.cnn = nn.Sequential(\n",
    "        conv1(),\n",
    "        Block2(1),Block2(),Block2(),\n",
    "        Block3(1),Block3(),Block3(),Block3(),\n",
    "        Block4(1),Block4(),Block4(),Block4(),Block4(),Block4(),\n",
    "        Block5(1),Block5(),Block5(),\n",
    "        nn.AvgPool2d(4))\n",
    "        self.fc = nn.Sequential(nn.Linear(2048,3))\n",
    "        \n",
    "        \n",
    "    def forward(self,x):\n",
    "        out = self.cnn(x)\n",
    "        out = out.view(out.size(0), -1)\n",
    "        out = self.fc(out)        \n",
    "        return out\n",
    "\n",
    "    \n",
    "print('STEP 4: INSTANTIATE MODEL CLASS')\n",
    "model = ResNet()\n",
    "num_total_params = sum(p.numel() for p in model.parameters())\n",
    "print(\"The number of parameters : \", num_total_params)\n",
    "#######################\n",
    "#  USE GPU FOR MODEL  #\n",
    "#######################\n",
    "\n",
    "device = torch.device(\"cuda:0\" if torch.cuda.is_available() else \"cpu\")\n",
    "model.to(device)"
   ]
  },
  {
   "cell_type": "markdown",
   "metadata": {
    "colab_type": "text",
    "id": "PTFU8J5Uj9aj"
   },
   "source": [
    "### 2.2 Print test accuracy for every epochs"
   ]
  },
  {
   "cell_type": "code",
   "execution_count": 314,
   "metadata": {
    "colab": {
     "base_uri": "https://localhost:8080/",
     "height": 341
    },
    "colab_type": "code",
    "executionInfo": {
     "elapsed": 3331664,
     "status": "ok",
     "timestamp": 1549959788744,
     "user": {
      "displayName": "­이중협(대학원/일반대학원 전기전자공학과)",
      "photoUrl": "",
      "userId": "06027175232332113122"
     },
     "user_tz": -540
    },
    "id": "ydsAXR-qj9ak",
    "outputId": "f60bbc8f-dfdb-4481-8e48-38a67d7ddffc"
   },
   "outputs": [
    {
     "name": "stdout",
     "output_type": "stream",
     "text": [
      "STEP 5: INSTANTIATE LOSS CLASS\n",
      "STEP 6: INSTANTIATE OPTIMIZER CLASS\n",
      "STEP 7: TRAIN THE MODEL\n",
      "Epoch: 0. Iteration: 100. Loss: 0.6061371564865112. Accuracy: 75.76666666666667\n",
      "Epoch: 1. Iteration: 200. Loss: 0.5213652849197388. Accuracy: 78.53333333333333\n",
      "Epoch: 2. Iteration: 300. Loss: 0.42608359456062317. Accuracy: 79.73333333333333\n",
      "Epoch: 3. Iteration: 400. Loss: 0.48162904381752014. Accuracy: 83.4\n",
      "Epoch: 4. Iteration: 500. Loss: 0.3004254996776581. Accuracy: 82.23333333333333\n",
      "Epoch: 5. Iteration: 600. Loss: 0.497819721698761. Accuracy: 82.13333333333334\n",
      "Epoch: 5. Iteration: 700. Loss: 0.4714495837688446. Accuracy: 81.9\n",
      "Epoch: 6. Iteration: 800. Loss: 0.22626987099647522. Accuracy: 83.7\n",
      "Epoch: 7. Iteration: 900. Loss: 0.12189944833517075. Accuracy: 85.1\n",
      "Epoch: 8. Iteration: 1000. Loss: 0.2699798047542572. Accuracy: 83.33333333333333\n",
      "Epoch: 9. Iteration: 1100. Loss: 0.13810893893241882. Accuracy: 84.93333333333334\n",
      "Epoch: 10. Iteration: 1200. Loss: 0.07873599231243134. Accuracy: 86.23333333333333\n",
      "Epoch: 11. Iteration: 1300. Loss: 0.16945846378803253. Accuracy: 80.1\n",
      "Epoch: 11. Iteration: 1400. Loss: 0.11327686905860901. Accuracy: 84.5\n",
      "Epoch: 12. Iteration: 1500. Loss: 0.019568990916013718. Accuracy: 84.33333333333333\n",
      "Epoch: 13. Iteration: 1600. Loss: 0.023534253239631653. Accuracy: 87.06666666666666\n",
      "Epoch: 14. Iteration: 1700. Loss: 0.047833628952503204. Accuracy: 85.06666666666666\n"
     ]
    }
   ],
   "source": [
    "print('STEP 5: INSTANTIATE LOSS CLASS')\n",
    "\n",
    "criterion = nn.CrossEntropyLoss()\n",
    "\n",
    "print('STEP 6: INSTANTIATE OPTIMIZER CLASS')\n",
    "\n",
    "learning_rate = 1e-2\n",
    "momentum = 0.9\n",
    "weight_decay = 5e-4\n",
    "\n",
    "optimizer = torch.optim.SGD(model.parameters(), lr=learning_rate, momentum = momentum, weight_decay = weight_decay)\n",
    "\n",
    "\n",
    "print('STEP 7: TRAIN THE MODEL')\n",
    "num_epochs = 15\n",
    "iter=0\n",
    "\n",
    "for epoch in range(num_epochs):\n",
    "    for i, (images, labels) in enumerate(train_loader):\n",
    "        images, labels = images.to(device), labels.to(device)\n",
    "        # Clear gradients w.r.t. parameters\n",
    "        optimizer.zero_grad()\n",
    "\n",
    "        # Forward pass to get output/logits\n",
    "        outputs = model(images)\n",
    "\n",
    "        # Calculate Loss: softmax --> cross entropy loss\n",
    "        loss = criterion(outputs, labels)\n",
    "        \n",
    "        # Getting gradients w.r.t. parameters\n",
    "        loss.backward()\n",
    "\n",
    "        # Updating parameters\n",
    "        optimizer.step()\n",
    "\n",
    "        iter += 1\n",
    "\n",
    "        if iter % 100 == 0:\n",
    "            # Calculate Accuracy         \n",
    "            correct = 0\n",
    "            total = 0\n",
    "            # Iterate through test dataset\n",
    "            for images, labels in test_loader:\n",
    "                images, labels = images.to(device), labels.to(device) \n",
    "                # Forward pass only to get logits/output\n",
    "                outputs = model(images)\n",
    "                # Get predictions from the maximum value\n",
    "                _, predicted = torch.max(outputs.data, 1)\n",
    "                # Total number of labels\n",
    "                total += labels.size(0)\n",
    "\n",
    "                # Total correct predictions\n",
    "                correct += (predicted == labels).sum()\n",
    "\n",
    "            accuracy = 100 * correct.item() / total\n",
    "\n",
    "            # Print Loss\n",
    "            print('Epoch: {}. Iteration: {}. Loss: {}. Accuracy: {}'.format(epoch, iter, loss.item(), accuracy))\n"
   ]
  }
 ],
 "metadata": {
  "accelerator": "GPU",
  "colab": {
   "collapsed_sections": [],
   "name": "EEE4423_lab3-vgg_resnet(reduced)_solution.ipynb",
   "provenance": [],
   "version": "0.3.2"
  },
  "kernelspec": {
   "display_name": "Python 3",
   "language": "python",
   "name": "python3"
  },
  "language_info": {
   "codemirror_mode": {
    "name": "ipython",
    "version": 3
   },
   "file_extension": ".py",
   "mimetype": "text/x-python",
   "name": "python",
   "nbconvert_exporter": "python",
   "pygments_lexer": "ipython3",
   "version": "3.8.5"
  }
 },
 "nbformat": 4,
 "nbformat_minor": 1
}
